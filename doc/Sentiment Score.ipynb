{
  "nbformat": 4,
  "nbformat_minor": 0,
  "metadata": {
    "colab": {
      "provenance": []
    },
    "kernelspec": {
      "name": "python3",
      "display_name": "Python 3"
    },
    "language_info": {
      "name": "python"
    }
  },
  "cells": [
    {
      "cell_type": "code",
      "execution_count": null,
      "metadata": {
        "id": "PAZ7MxeCBEJm"
      },
      "outputs": [],
      "source": [
        "import pandas as pd\n",
        "from transformers import pipeline\n",
        "import nltk\n",
        "nltk.download('punkt')\n",
        "from nltk.tokenize import sent_tokenize\n",
        "\n",
        "file_path = './imdb_reviews_unique.csv'\n",
        "reviews_df = pd.read_csv(file_path)\n",
        "\n",
        "sentiment_model = pipeline(\"sentiment-analysis\", truncation=True)\n",
        "\n",
        "def analyze_sentiment(title, review):\n",
        "    full_text = title + \". \" + review\n",
        "    sentences = sent_tokenize(full_text)\n",
        "    scores = []\n",
        "\n",
        "    for sentence in sentences:\n",
        "        max_length = 512\n",
        "        parts = [sentence[i:i + max_length] for i in range(0, len(sentence), max_length)]\n",
        "\n",
        "        for part in parts:\n",
        "            if part.strip() != '':\n",
        "                result = sentiment_model(part)[0]\n",
        "                scores.append(result['score'] if result['label'] == 'POSITIVE' else 1 - result['score'])\n",
        "\n",
        "    return sum(scores) / len(scores) if scores else 0\n",
        "\n",
        "reviews_df['Sentiment_Score'] = reviews_df.apply(lambda x: analyze_sentiment(x['Title'], x['Review']), axis=1)\n",
        "\n",
        "reviews_df.head()\n",
        "\n",
        "output_path = \"/content/drive/My Drive/5243data/reviews_df.csv\"\n",
        "reviews_df.to_csv(output_path, index=False)\n"
      ]
    },
    {
      "cell_type": "code",
      "source": [
        "import pandas as pd\n",
        "import numpy as np\n",
        "from sklearn.linear_model import LinearRegression\n",
        "import matplotlib.pyplot as plt\n",
        "\n",
        "reviews_df['Date'] = pd.to_datetime(reviews_df['Date'])\n",
        "\n",
        "reviews_df['Year-Half_Numeric'] = reviews_df['Date'].apply(lambda x: x.year + (0.5 if x.month > 6 else 0))\n",
        "\n",
        "score_by_time = reviews_df.groupby('Year-Half_Numeric')['Sentiment_Score'].mean().reset_index()\n",
        "\n",
        "score_by_time['Moving_Avg'] = score_by_time['Sentiment_Score'].rolling(window=3).mean()\n",
        "\n",
        "X = score_by_time['Year-Half_Numeric'].values.reshape(-1, 1)\n",
        "y = score_by_time['Sentiment_Score'].values\n",
        "\n",
        "model = LinearRegression().fit(X, y)\n",
        "score_by_time['Trend'] = model.predict(X)\n",
        "\n",
        "plt.figure(figsize=(12, 6))\n",
        "plt.plot(score_by_time['Year-Half_Numeric'], score_by_time['Sentiment_Score'], marker='o', label='Average Sentiment Score')\n",
        "plt.plot(score_by_time['Year-Half_Numeric'], score_by_time['Moving_Avg'], marker='o', linestyle='--', color='red', label='Moving Average')\n",
        "plt.plot(score_by_time['Year-Half_Numeric'], score_by_time['Trend'], linestyle='-', color='green', label='Trend Line')\n",
        "\n",
        "plt.xticks(score_by_time['Year-Half_Numeric'], rotation=45)\n",
        "plt.xlabel('Year-Half')\n",
        "plt.ylabel('Average Sentiment Score')\n",
        "plt.title('Sentiment Score Trend Analysis')\n",
        "plt.legend()\n",
        "plt.grid(True)\n",
        "plt.show()\n"
      ],
      "metadata": {
        "id": "98LwqyP8BMTI"
      },
      "execution_count": null,
      "outputs": []
    },
    {
      "cell_type": "code",
      "source": [
        "import pandas as pd\n",
        "import scipy.stats as stats\n",
        "import matplotlib.pyplot as plt\n",
        "import seaborn as sns\n",
        "\n",
        "reviews_df_path = './tille+review.csv'\n",
        "imdb_reviews_path = './imdb_reviews_2(1).csv'\n",
        "\n",
        "reviews_df = pd.read_csv(reviews_df_path)\n",
        "imdb_reviews = pd.read_csv(imdb_reviews_path)\n",
        "\n",
        "merged_df = pd.merge(reviews_df, imdb_reviews[['Author', 'Rating']], on='Author', how='left')\n",
        "\n",
        "merged_df = merged_df[merged_df['Rating'] != 'No Rating']\n",
        "merged_df.dropna(subset=['Rating'], inplace=True)\n",
        "\n",
        "merged_df['Rating'] = merged_df['Rating'].str.split('/').str[0]\n",
        "merged_df['Rating'] = pd.to_numeric(merged_df['Rating'], errors='coerce')\n",
        "\n",
        "merged_df['Transformed_Sentiment_Score'] = (merged_df['Sentiment_Score'] * 9)+1\n",
        "\n",
        "transformed_correlation = merged_df[['Transformed_Sentiment_Score', 'Rating']].corr()\n",
        "\n",
        "spearman_corr_transformed, spearman_p_value_transformed = stats.spearmanr(merged_df['Transformed_Sentiment_Score'], merged_df['Rating'], nan_policy='omit')\n",
        "\n",
        "print(\"Correlation Matrix:\\n\", transformed_correlation)\n",
        "print(\"\\nSpearman Correlation Coefficient: \", spearman_corr_transformed)\n",
        "print(\"Spearman P-value: \", spearman_p_value_transformed)\n",
        "\n",
        "print(\"\\nDescriptive Statistics:\\n\", merged_df[['Transformed_Sentiment_Score', 'Rating']].describe())\n",
        "\n",
        "plt.figure(figsize=(12, 6))\n",
        "\n",
        "plt.subplot(1, 2, 1)\n",
        "sns.boxplot(data=merged_df, y='Transformed_Sentiment_Score')\n",
        "plt.title('Boxplot of Transformed Sentiment Score')\n",
        "\n",
        "plt.subplot(1, 2, 2)\n",
        "sns.boxplot(data=merged_df, y='Rating')\n",
        "plt.title('Boxplot of Rating')\n",
        "\n",
        "plt.tight_layout()\n",
        "plt.show()"
      ],
      "metadata": {
        "id": "HJdueJJVBWbu"
      },
      "execution_count": null,
      "outputs": []
    }
  ]
}