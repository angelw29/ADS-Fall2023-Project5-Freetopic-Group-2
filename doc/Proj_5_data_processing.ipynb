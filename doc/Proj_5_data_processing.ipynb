{
  "cells": [
    {
      "cell_type": "code",
      "execution_count": null,
      "metadata": {
        "id": "SriA1jaIJPen"
      },
      "outputs": [],
      "source": [
        "import pandas as pd\n",
        "from transformers import pipeline\n",
        "import nltk\n",
        "nltk.download('punkt')\n",
        "from nltk.tokenize import sent_tokenize\n",
        "\n",
        "file_path = './imdb_reviews_unique.csv'\n",
        "reviews_df = pd.read_csv(file_path)\n",
        "\n",
        "sentiment_model = pipeline(\"sentiment-analysis\", truncation=True)\n",
        "\n",
        "def analyze_sentiment(title, review):\n",
        "    full_text = title + \". \" + review\n",
        "    sentences = sent_tokenize(full_text)\n",
        "    scores = []\n",
        "\n",
        "    for sentence in sentences:\n",
        "        max_length = 512\n",
        "        parts = [sentence[i:i + max_length] for i in range(0, len(sentence), max_length)]\n",
        "\n",
        "        for part in parts:\n",
        "            if part.strip() != '':\n",
        "                result = sentiment_model(part)[0]\n",
        "                scores.append(result['score'] if result['label'] == 'POSITIVE' else 1 - result['score'])\n",
        "\n",
        "    return sum(scores) / len(scores) if scores else 0\n",
        "\n",
        "reviews_df['Sentiment_Score'] = reviews_df.apply(lambda x: analyze_sentiment(x['Title'], x['Review']), axis=1)\n",
        "\n",
        "reviews_df.head()\n",
        "\n",
        "output_path = \"../data/Sentiment_Score.csv\"\n",
        "reviews_df.to_csv(output_path, index=False)"
      ]
    }
  ],
  "metadata": {
    "colab": {
      "provenance": []
    },
    "kernelspec": {
      "display_name": "Python 3",
      "name": "python3"
    },
    "language_info": {
      "name": "python"
    }
  },
  "nbformat": 4,
  "nbformat_minor": 0
}
